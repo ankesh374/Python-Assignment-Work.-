{
 "cells": [
  {
   "cell_type": "code",
   "execution_count": 1,
   "id": "6f7d6793-a357-4faf-bcc6-ac2ca3554b3a",
   "metadata": {},
   "outputs": [
    {
     "name": "stdin",
     "output_type": "stream",
     "text": [
      "Enter a string:  Ankesh\n"
     ]
    },
    {
     "name": "stdout",
     "output_type": "stream",
     "text": [
      "Number of vowels: 2\n"
     ]
    }
   ],
   "source": [
    "def count_vowels(string):\n",
    "    vowels = \"aeiouAEIOU\"\n",
    "    count = sum(1 for char in string if char in vowels)\n",
    "    print(f\"Number of vowels: {count}\")\n",
    "\n",
    "count_vowels(input(\"Enter a string: \"))\n"
   ]
  },
  {
   "cell_type": "code",
   "execution_count": 2,
   "id": "659fee9a-327a-4ac5-9c3a-a57c4c2e5dec",
   "metadata": {},
   "outputs": [
    {
     "name": "stdin",
     "output_type": "stream",
     "text": [
      "Enter a string:  Ankesh 123222\n"
     ]
    },
    {
     "name": "stdout",
     "output_type": "stream",
     "text": [
      "Uppercase: 1, Lowercase: 5, Digits: 6, Whitespace: 1\n"
     ]
    }
   ],
   "source": [
    "def analyze_string(string):\n",
    "    upper = sum(1 for char in string if char.isupper())\n",
    "    lower = sum(1 for char in string if char.islower())\n",
    "    digits = sum(1 for char in string if char.isdigit())\n",
    "    spaces = sum(1 for char in string if char.isspace())\n",
    "    print(f\"Uppercase: {upper}, Lowercase: {lower}, Digits: {digits}, Whitespace: {spaces}\")\n",
    "\n",
    "analyze_string(input(\"Enter a string: \"))\n"
   ]
  },
  {
   "cell_type": "code",
   "execution_count": 3,
   "id": "7fad891c-dbfd-4613-a625-18922c6d7161",
   "metadata": {},
   "outputs": [
    {
     "name": "stdin",
     "output_type": "stream",
     "text": [
      "Enter a string:  ankesh\n"
     ]
    },
    {
     "name": "stdout",
     "output_type": "stream",
     "text": [
      "New string: hnkesa\n"
     ]
    }
   ],
   "source": [
    "def exchange_first_last(string):\n",
    "    if len(string) < 2:\n",
    "        print(\"String too short to exchange characters.\")\n",
    "    else:\n",
    "        new_string = string[-1] + string[1:-1] + string[0]\n",
    "        print(f\"New string: {new_string}\")\n",
    "\n",
    "exchange_first_last(input(\"Enter a string: \"))\n"
   ]
  },
  {
   "cell_type": "code",
   "execution_count": 4,
   "id": "afe84f04-4576-41d4-a18b-399e080bdda7",
   "metadata": {},
   "outputs": [
    {
     "name": "stdin",
     "output_type": "stream",
     "text": [
      "Enter a string:  rathi\n"
     ]
    },
    {
     "name": "stdout",
     "output_type": "stream",
     "text": [
      "Reversed string: ihtar\n"
     ]
    }
   ],
   "source": [
    "def reverse_string(string):\n",
    "    print(f\"Reversed string: {string[::-1]}\")\n",
    "\n",
    "reverse_string(input(\"Enter a string: \"))\n"
   ]
  },
  {
   "cell_type": "code",
   "execution_count": 2,
   "id": "16860205-a58e-4654-b367-94feb1eb5ef5",
   "metadata": {},
   "outputs": [
    {
     "name": "stdin",
     "output_type": "stream",
     "text": [
      "Enter a string:  Ankeshhh\n"
     ]
    },
    {
     "name": "stdout",
     "output_type": "stream",
     "text": [
      "Shifted string: nkeshhhA\n"
     ]
    }
   ],
   "source": [
    "def shift_string(string):\n",
    "    if len(string) > 1:\n",
    "        new_string = string[1:] + string[0]\n",
    "        print(f\"Shifted string: {new_string}\")\n",
    "    elif len(string) == 1:\n",
    "        print(\"String too short to shift.\")\n",
    "    else:\n",
    "        print(\"Empty string provided.\")\n",
    "\n",
    "shift_string(input(\"Enter a string: \"))\n"
   ]
  },
  {
   "cell_type": "code",
   "execution_count": 3,
   "id": "03efd4b4-c98f-4ba5-be5d-7a8f3d7896be",
   "metadata": {},
   "outputs": [
    {
     "name": "stdin",
     "output_type": "stream",
     "text": [
      "Enter full name:  ANkeshKumar\n"
     ]
    },
    {
     "name": "stdout",
     "output_type": "stream",
     "text": [
      "Initials: A.\n"
     ]
    }
   ],
   "source": [
    "def display_initials(name):\n",
    "    initials = ''.join([part[0].upper() + '.' for part in name.split() if part])\n",
    "    print(f\"Initials: {initials}\")\n",
    "\n",
    "display_initials(input(\"Enter full name: \"))\n"
   ]
  },
  {
   "cell_type": "code",
   "execution_count": 8,
   "id": "dce00383-7e17-4b33-9006-9d1ed2f09d93",
   "metadata": {},
   "outputs": [
    {
     "name": "stdin",
     "output_type": "stream",
     "text": [
      "Enter a string:  NAkesh\n"
     ]
    },
    {
     "name": "stdout",
     "output_type": "stream",
     "text": [
      "Not a palindrome\n"
     ]
    }
   ],
   "source": [
    "def is_palindrome(string):\n",
    "    cleaned = ''.join(char.lower() for char in string if char.isalnum())\n",
    "    if cleaned == cleaned[::-1]:\n",
    "        print(\"Palindrome\")\n",
    "    else:\n",
    "        print(\"Not a palindrome\")\n",
    "\n",
    "is_palindrome(input(\"Enter a string: \"))\n"
   ]
  },
  {
   "cell_type": "code",
   "execution_count": 7,
   "id": "6859528e-500d-40f0-a82a-a5d866b4954f",
   "metadata": {},
   "outputs": [
    {
     "name": "stdout",
     "output_type": "stream",
     "text": [
      "Ankesh\n",
      "nkeshA\n",
      "keshAn\n",
      "eshAnk\n",
      "shAnke\n",
      "hAnkes\n"
     ]
    }
   ],
   "source": [
    "def pattern_output():\n",
    "    string = \"Ankesh\"\n",
    "    for i in range(len(string)):\n",
    "        shifted = string[i:] + string[:i]\n",
    "        print(shifted)\n",
    "\n",
    "pattern_output()\n"
   ]
  },
  {
   "cell_type": "code",
   "execution_count": 5,
   "id": "df880fd3-69c3-40f1-9fdd-6cce14e892a4",
   "metadata": {},
   "outputs": [
    {
     "name": "stdin",
     "output_type": "stream",
     "text": [
      "Enter a password:  ANkeshhhh1233\n"
     ]
    },
    {
     "name": "stdout",
     "output_type": "stream",
     "text": [
      "Password is valid.\n"
     ]
    }
   ],
   "source": [
    "def validate_password(password):\n",
    "    if (len(password) >= 8 and \n",
    "        any(char.isupper() for char in password) and \n",
    "        any(char.islower() for char in password) and \n",
    "        any(char.isdigit() for char in password)):\n",
    "        print(\"Password is valid.\")\n",
    "    else:\n",
    "        print(\"Password is invalid.\")\n",
    "\n",
    "validate_password(input(\"Enter a password: \"))\n"
   ]
  },
  {
   "cell_type": "code",
   "execution_count": null,
   "id": "aa4a2d32-396b-440e-ab0e-a8ff4d391057",
   "metadata": {},
   "outputs": [],
   "source": []
  }
 ],
 "metadata": {
  "kernelspec": {
   "display_name": "Python 3 (ipykernel)",
   "language": "python",
   "name": "python3"
  },
  "language_info": {
   "codemirror_mode": {
    "name": "ipython",
    "version": 3
   },
   "file_extension": ".py",
   "mimetype": "text/x-python",
   "name": "python",
   "nbconvert_exporter": "python",
   "pygments_lexer": "ipython3",
   "version": "3.12.7"
  }
 },
 "nbformat": 4,
 "nbformat_minor": 5
}
