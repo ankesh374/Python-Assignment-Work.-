{
 "cells": [
  {
   "cell_type": "code",
   "execution_count": null,
   "id": "dbc6c746-0493-4ef8-96a9-29566c4f5d58",
   "metadata": {},
   "outputs": [],
   "source": []
  }
 ],
 "metadata": {
  "kernelspec": {
   "display_name": "",
   "name": ""
  },
  "language_info": {
   "name": ""
  }
 },
 "nbformat": 4,
 "nbformat_minor": 5
}
