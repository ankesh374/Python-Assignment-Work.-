{
 "cells": [
  {
   "cell_type": "markdown",
   "id": "db9d437a-9a39-4578-97ee-34540ad4e726",
   "metadata": {},
   "source": [
    "# TAsk 1"
   ]
  },
  {
   "cell_type": "code",
   "execution_count": 4,
   "id": "f0a85bd9-a62f-4438-b598-08418221e9e8",
   "metadata": {},
   "outputs": [
    {
     "name": "stdout",
     "output_type": "stream",
     "text": [
      "8\n"
     ]
    }
   ],
   "source": [
    "def max_of_three(a, b, c):\n",
    "    return max(a, b, c)\n",
    "\n",
    "print(max_of_three(8, 2, 7))  \n"
   ]
  },
  {
   "cell_type": "markdown",
   "id": "5eac6d9e-b557-47a4-a241-f17c7732fe4f",
   "metadata": {},
   "source": [
    "# TAsk 2"
   ]
  },
  {
   "cell_type": "code",
   "execution_count": 5,
   "id": "89bc9b4f-15f8-4954-87b7-5476a71f15c0",
   "metadata": {},
   "outputs": [
    {
     "name": "stdout",
     "output_type": "stream",
     "text": [
      "20\n"
     ]
    }
   ],
   "source": [
    "def sum_of_list(lst):\n",
    "    return sum(lst)\n",
    "\n",
    "print(sum_of_list([8, 2, 3, 0, 7]))  \n"
   ]
  },
  {
   "cell_type": "markdown",
   "id": "2273feab-eed5-4e77-93a3-ccf1cae303b4",
   "metadata": {},
   "source": [
    "# TAsk 3"
   ]
  },
  {
   "cell_type": "code",
   "execution_count": 6,
   "id": "cb5f1b45-aedc-4abb-bf0d-9c2c483db40a",
   "metadata": {},
   "outputs": [
    {
     "name": "stdout",
     "output_type": "stream",
     "text": [
      "-336\n"
     ]
    }
   ],
   "source": [
    "def multiply_list(lst):\n",
    "    result = 1\n",
    "    for num in lst:\n",
    "        result *= num\n",
    "    return result\n",
    "\n",
    "print(multiply_list([8, 2, 3, -1, 7]))\n"
   ]
  },
  {
   "cell_type": "markdown",
   "id": "1eee7334-8c68-4e6e-bbc0-d96349bbd661",
   "metadata": {},
   "source": [
    "# TAsk4"
   ]
  },
  {
   "cell_type": "code",
   "execution_count": 7,
   "id": "55804a08-5fe9-4f41-a425-181dfae2a1d5",
   "metadata": {},
   "outputs": [
    {
     "name": "stdout",
     "output_type": "stream",
     "text": [
      "dcba4321\n"
     ]
    }
   ],
   "source": [
    "def reverse_string(s):\n",
    "    return s[::-1]\n",
    "\n",
    "print(reverse_string(\"1234abcd\"))\n"
   ]
  },
  {
   "cell_type": "markdown",
   "id": "a7954a0b-db7b-40b6-b7e8-815098f2eac3",
   "metadata": {},
   "source": [
    "# TAsk 5"
   ]
  },
  {
   "cell_type": "code",
   "execution_count": 8,
   "id": "804881d1-0220-4919-877e-8bccddb1ae59",
   "metadata": {},
   "outputs": [
    {
     "name": "stdout",
     "output_type": "stream",
     "text": [
      "120\n"
     ]
    }
   ],
   "source": [
    "def factorial(n):\n",
    "    if n == 0 or n == 1:\n",
    "        return 1\n",
    "    else:\n",
    "        return n * factorial(n - 1)\n",
    "\n",
    "print(factorial(5))\n"
   ]
  },
  {
   "cell_type": "markdown",
   "id": "2af067cd-5a97-4a65-a155-3b0fe49d548c",
   "metadata": {},
   "source": [
    "# TAsk 6"
   ]
  },
  {
   "cell_type": "code",
   "execution_count": 9,
   "id": "1bb98f23-c5d7-47bc-a275-5272eded6c0e",
   "metadata": {},
   "outputs": [
    {
     "name": "stdout",
     "output_type": "stream",
     "text": [
      "True\n"
     ]
    }
   ],
   "source": [
    "def is_in_range(num, start, end):\n",
    "    return start <= num <= end\n",
    "\n",
    "print(is_in_range(5, 1, 10))\n"
   ]
  },
  {
   "cell_type": "markdown",
   "id": "6167f088-dfcf-4a87-94b2-bf65628d1a54",
   "metadata": {},
   "source": [
    "# TAsk 7"
   ]
  },
  {
   "cell_type": "code",
   "execution_count": 10,
   "id": "278f0601-9ac4-44e7-904b-cc38802760d1",
   "metadata": {},
   "outputs": [
    {
     "name": "stdout",
     "output_type": "stream",
     "text": [
      "No. of Upper case characters: 3\n",
      "No. of Lower case characters: 12\n"
     ]
    }
   ],
   "source": [
    "def count_case(s):\n",
    "    upper_count = sum(1 for char in s if char.isupper())\n",
    "    lower_count = sum(1 for char in s if char.islower())\n",
    "    return upper_count, lower_count\n",
    "\n",
    "upper_count, lower_count = count_case(\"The quick Brow Fox\")\n",
    "print(f\"No. of Upper case characters: {upper_count}\")\n",
    "print(f\"No. of Lower case characters: {lower_count}\")\n"
   ]
  },
  {
   "cell_type": "markdown",
   "id": "fe8f63ba-e4bf-4fbe-83b4-8dab4debdeca",
   "metadata": {},
   "source": [
    "# TAsk 8"
   ]
  },
  {
   "cell_type": "code",
   "execution_count": 11,
   "id": "3f31b8c6-ff4e-4bc8-80af-089541ea8116",
   "metadata": {},
   "outputs": [
    {
     "name": "stdout",
     "output_type": "stream",
     "text": [
      "[1, 2, 3, 4, 5]\n"
     ]
    }
   ],
   "source": [
    "def unique_elements(lst):\n",
    "    return list(set(lst))\n",
    "\n",
    "print(unique_elements([1, 2, 2, 3, 3, 3, 4, 5]))\n"
   ]
  },
  {
   "cell_type": "code",
   "execution_count": null,
   "id": "1fbe6b70-a061-46ff-9fd9-ec0742f20fd5",
   "metadata": {},
   "outputs": [],
   "source": [
    "# TAsk 9"
   ]
  },
  {
   "cell_type": "code",
   "execution_count": 12,
   "id": "cd4b089d-48aa-4272-87af-095afa957506",
   "metadata": {},
   "outputs": [
    {
     "name": "stdout",
     "output_type": "stream",
     "text": [
      "True\n"
     ]
    }
   ],
   "source": [
    "def is_prime(n):\n",
    "    if n <= 1:\n",
    "        return False\n",
    "    for i in range(2, int(n ** 0.5) + 1):\n",
    "        if n % i == 0:\n",
    "            return False\n",
    "    return True\n",
    "\n",
    "print(is_prime(7))  "
   ]
  },
  {
   "cell_type": "code",
   "execution_count": 13,
   "id": "324ab6d9-271e-4036-bdf3-434f02000f45",
   "metadata": {},
   "outputs": [
    {
     "name": "stdout",
     "output_type": "stream",
     "text": [
      "[2, 4, 6, 8]\n"
     ]
    }
   ],
   "source": [
    "def print_even_numbers(lst):\n",
    "    even_numbers = [num for num in lst if num % 2 == 0]\n",
    "    return even_numbers\n",
    "\n",
    "print(print_even_numbers([1, 2, 3, 4, 5, 6, 7, 8, 9]))  \n"
   ]
  },
  {
   "cell_type": "code",
   "execution_count": 14,
   "id": "7e0331ee-7ae4-4999-bc60-a1d6b4215b4e",
   "metadata": {},
   "outputs": [
    {
     "name": "stdout",
     "output_type": "stream",
     "text": [
      "True\n"
     ]
    }
   ],
   "source": [
    "def is_perfect(n):\n",
    "    divisors_sum = sum(i for i in range(1, n) if n % i == 0)\n",
    "    return divisors_sum == n\n",
    "\n",
    "print(is_perfect(6))  \n"
   ]
  },
  {
   "cell_type": "code",
   "execution_count": 15,
   "id": "db1c5e48-054b-4332-9c14-a5d1eded9b65",
   "metadata": {},
   "outputs": [
    {
     "name": "stdout",
     "output_type": "stream",
     "text": [
      "True\n"
     ]
    }
   ],
   "source": [
    "def is_palindrome(s):\n",
    "    return s == s[::-1]\n",
    "\n",
    "print(is_palindrome(\"madam\"))  \n"
   ]
  },
  {
   "cell_type": "code",
   "execution_count": null,
   "id": "42356da8-ebef-477a-8406-b90894f738e5",
   "metadata": {},
   "outputs": [],
   "source": []
  }
 ],
 "metadata": {
  "kernelspec": {
   "display_name": "Python 3 (ipykernel)",
   "language": "python",
   "name": "python3"
  },
  "language_info": {
   "codemirror_mode": {
    "name": "ipython",
    "version": 3
   },
   "file_extension": ".py",
   "mimetype": "text/x-python",
   "name": "python",
   "nbconvert_exporter": "python",
   "pygments_lexer": "ipython3",
   "version": "3.12.7"
  }
 },
 "nbformat": 4,
 "nbformat_minor": 5
}
